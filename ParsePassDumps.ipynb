{
 "cells": [
  {
   "cell_type": "code",
   "execution_count": 14,
   "metadata": {
    "collapsed": false
   },
   "outputs": [],
   "source": [
    "import csv\n",
    "import re\n",
    "data = open('nvidia.com.txt').read()"
   ]
  },
  {
   "cell_type": "code",
   "execution_count": 41,
   "metadata": {
    "collapsed": false
   },
   "outputs": [],
   "source": [
    "collname_regex = re.compile(r'INSERT INTO `(?P<table_name>\\w+)`\\s+\\((?P<colnames>.*)\\)\\s*VALUES\\s+(?P<values>.*)')\n",
    "m = collname_regex.match(data)\n",
    "tbl_name = m.group('table_name')\n",
    "columns = [s.strip('`') for s in m.group('colnames').split(', ')]\n",
    "values = m.group('values')"
   ]
  },
  {
   "cell_type": "code",
   "execution_count": 52,
   "metadata": {
    "collapsed": false
   },
   "outputs": [],
   "source": [
    "import regex\n",
    "values = values.splitlines()"
   ]
  },
  {
   "cell_type": "code",
   "execution_count": 74,
   "metadata": {
    "collapsed": false
   },
   "outputs": [
    {
     "name": "stdout",
     "output_type": "stream",
     "text": [
      "(0, '', '', '', 0, 0, 0, '', '', 0, 0, 0, 0, 0, NULL, '', '', '', NULL, ''),\n",
      "{'val': ['0', \"''\", \"''\", \"''\", '0', '0', '0', \"''\", \"''\", '0', '0', '0', '0', '0', 'NULL', \"''\", \"''\", \"''\", 'NULL', \"''\", '']}\n"
     ]
    }
   ],
   "source": [
    "for v in values[:10]:\n",
    "    a = regex.match(r'\\(((?P<val>[\\'\\w]*),? ?)+\\),', v)\n",
    "    print a.capturesdict()"
   ]
  }
 ],
 "metadata": {
  "kernelspec": {
   "display_name": "Python 2",
   "language": "python",
   "name": "python2"
  },
  "language_info": {
   "codemirror_mode": {
    "name": "ipython",
    "version": 2
   },
   "file_extension": ".py",
   "mimetype": "text/x-python",
   "name": "python",
   "nbconvert_exporter": "python",
   "pygments_lexer": "ipython2",
   "version": "2.7.11"
  }
 },
 "nbformat": 4,
 "nbformat_minor": 0
}
